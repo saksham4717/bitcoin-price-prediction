{
  "nbformat": 4,
  "nbformat_minor": 0,
  "metadata": {
    "colab": {
      "name": "Bitcoin Price Prediction.ipynb",
      "provenance": [],
      "collapsed_sections": []
    },
    "kernelspec": {
      "name": "python3",
      "display_name": "Python 3"
    },
    "language_info": {
      "name": "python"
    }
  },
  "cells": [
    {
      "cell_type": "markdown",
      "metadata": {
        "id": "D9YijjJLO8tr"
      },
      "source": [
        "Microtask 1"
      ]
    },
    {
      "cell_type": "code",
      "metadata": {
        "id": "br-wsJY3Oekn"
      },
      "source": [
        "~# pip3 install pandas"
      ],
      "execution_count": null,
      "outputs": []
    },
    {
      "cell_type": "markdown",
      "metadata": {
        "id": "qz_5FQZKPGNt"
      },
      "source": [
        "Microtask 2"
      ]
    },
    {
      "cell_type": "code",
      "metadata": {
        "id": "iQ8pW3LwPBIu"
      },
      "source": [
        "import pandas as pd\n",
        "from math import sqrt\n",
        "\n",
        "df = pd.read_csv(r\"C:\\Users\\saksh\\Intern\\bitcoin_dataset.csv\")\n",
        "\n",
        "print (df.head(1025))"
      ],
      "execution_count": null,
      "outputs": []
    },
    {
      "cell_type": "markdown",
      "metadata": {
        "id": "kZ_8A011POcL"
      },
      "source": [
        "Microtask 3"
      ]
    },
    {
      "cell_type": "code",
      "metadata": {
        "id": "I1psyQJnPNyQ"
      },
      "source": [
        "import pandas as pd\n",
        "from math import sqrt\n",
        "\n",
        "df = pd.read_csv(r\"C:\\Users\\saksh\\Intern\\bitcoin_dataset.csv\")\n",
        "\n",
        "n = 2906\n",
        "\n",
        "means = []\n",
        "for col in range(1, 24):\n",
        "    mean = 0\n",
        "    for row in range(n):\n",
        "        mean += df.iloc[row][col]\n",
        "    mean /= n\n",
        "    means.append(mean)\n",
        "\n",
        "\n",
        "first = 0\n",
        "for row in range(n):\n",
        "    first += (df.iloc[row][1] - means[0])**2\n",
        "\n",
        "\n",
        "deviations = []\n",
        "for col in range(2, 24):\n",
        "    d = 0\n",
        "    for row in range(n):\n",
        "        d += (df.iloc[row][col] - means[col-1])**2\n",
        "    d = sqrt((first * d))\n",
        "    deviations.append(d)\n",
        "\n",
        "\n",
        "cov = []\n",
        "for col in range(2, 24):\n",
        "    c = 0\n",
        "    for row in range(n):\n",
        "        c += (df.iloc[row][1] - means[0])*(df.iloc[row][col] - means[col-1])\n",
        "    cov.append(c)\n",
        "\n",
        "\n",
        "pear = []\n",
        "for col in range(2, 24):\n",
        "    p = cov[col-2] / deviations[col-2]\n",
        "    pear.append(p)\n",
        "    \n",
        "\n",
        "print (pear)\n",
        "\n",
        "\n",
        "for r in range(2, 23):\n",
        "    if abs(1-pear[r-2]) <= 0.001:\n",
        "        print(df.columns[r])"
      ],
      "execution_count": null,
      "outputs": []
    },
    {
      "cell_type": "markdown",
      "metadata": {
        "id": "FrV5fes0Pee6"
      },
      "source": [
        "Microtask 4: fillna"
      ]
    },
    {
      "cell_type": "markdown",
      "metadata": {
        "id": "a8DCXvCDP5FR"
      },
      "source": [
        "Microtask 5"
      ]
    },
    {
      "cell_type": "code",
      "metadata": {
        "id": "3TF-0mihP8c5"
      },
      "source": [
        "import numpy as np\n",
        "import pandas as pd"
      ],
      "execution_count": null,
      "outputs": []
    },
    {
      "cell_type": "code",
      "metadata": {
        "id": "_ay4M0aaQluD"
      },
      "source": [
        "#Reading Data\n",
        "df = pd.read_csv(r\"YOUR_LOCATION\\bitcoin_dataset.csv\")\n",
        "print (df.shape)\n",
        "df.head()"
      ],
      "execution_count": null,
      "outputs": []
    },
    {
      "cell_type": "code",
      "metadata": {
        "id": "Xv8q9NwFQoFN"
      },
      "source": [
        "#Collecting X and Y\n",
        "X = df['btc_market_price'].values\n",
        "Y = df['btc_market_cap'].values"
      ],
      "execution_count": null,
      "outputs": []
    },
    {
      "cell_type": "code",
      "metadata": {
        "id": "4lzYJhlIQqav"
      },
      "source": [
        "# Mean X and Y\n",
        "mean_x = np.mean(X)\n",
        "mean_y = np.mean(Y)"
      ],
      "execution_count": null,
      "outputs": []
    },
    {
      "cell_type": "code",
      "metadata": {
        "id": "KLqRAeSMQsK9"
      },
      "source": [
        "# Total number of values\n",
        "n = len(X)\n",
        "\n",
        "# Using the formula to calculate b1 and b0\n",
        "num = 0\n",
        "den = 0\n",
        "for i in range(n):\n",
        "    num += (X[i] - mean_x) * (Y[i] - mean_y)\n",
        "    den += (X[i] - mean_x) ** 2\n",
        "b1 = num / den\n",
        "b0 = mean_y - (b1 * mean_x)\n",
        "\n",
        "# Print coefficients\n",
        "print(b1, b0)"
      ],
      "execution_count": null,
      "outputs": []
    },
    {
      "cell_type": "code",
      "metadata": {
        "id": "AkphrNsFQw4Y"
      },
      "source": [
        "from sklearn.linear_model import LinearRegression\n",
        "from sklearn.metrics import mean_squared_error\n",
        "\n",
        "X = X.reshape((n,1))"
      ],
      "execution_count": null,
      "outputs": []
    },
    {
      "cell_type": "code",
      "metadata": {
        "id": "PBC3mVflQ4un"
      },
      "source": [
        "# Creating Model\n",
        "reg = LinearRegression()\n",
        "# Fitting Training Data\n",
        "reg = reg.fit(X, Y)\n",
        "\n",
        "Y_pred = reg.predict(X)\n",
        "\n",
        "# Calculating MSE\n",
        "mse = mean_squared_error(Y, Y_pred)\n",
        "\n",
        "print(mse)"
      ],
      "execution_count": null,
      "outputs": []
    }
  ]
}